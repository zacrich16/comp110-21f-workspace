{
 "cells": [
  {
   "cell_type": "markdown",
   "metadata": {},
   "source": [
    "# Hypothesis: I think students who find COMP 110 *interesting* are more likely to recommend it to other students than those who find COMP 110 to be *easy*.\n",
    "## Interesting is quantified as 5 or greater, and easy is quantified as 3 or less difficulty. Likely to recommend is quantified as 5 or greater."
   ]
  },
  {
   "cell_type": "markdown",
   "metadata": {},
   "source": [
    "The code below will be used to automatically reload any changes made to and saved in imported modules."
   ]
  },
  {
   "cell_type": "code",
   "execution_count": 98,
   "metadata": {},
   "outputs": [],
   "source": [
    "%reload_ext autoreload\n",
    "%autoreload 2"
   ]
  },
  {
   "cell_type": "markdown",
   "metadata": {},
   "source": [
    "Next I will read in the csv data and convert it to a column oriented data table."
   ]
  },
  {
   "cell_type": "code",
   "execution_count": 99,
   "metadata": {},
   "outputs": [],
   "source": [
    "from data_utils import read_csv_rows, columnar\n",
    "\n",
    "data_rows: list[dict[str, str]] = read_csv_rows('../../data/survey.csv')\n",
    "columns: dict[str, list[str]] = columnar(data_rows)"
   ]
  },
  {
   "cell_type": "markdown",
   "metadata": {},
   "source": [
    "Then I will select the three desired columns and present the first ten rows of the newly created table. The columns I need for my data analysis are *difficulty*, *interesting*, and *would_recommend*. I also use the head function to show the first 5 entries of the data table."
   ]
  },
  {
   "cell_type": "code",
   "execution_count": 100,
   "metadata": {},
   "outputs": [
    {
     "data": {
      "text/plain": [
       "{'difficulty': ['5', '3', '5', '6', '4'],\n",
       " 'interesting': ['5', '7', '7', '5', '6'],\n",
       " 'would_recommend': ['7', '7', '7', '7', '7']}"
      ]
     },
     "execution_count": 100,
     "metadata": {},
     "output_type": "execute_result"
    }
   ],
   "source": [
    "from data_utils import select, head\n",
    "subset: dict[str, list[str]] = select(columns, [\"difficulty\", \"interesting\", \"would_recommend\"])\n",
    "head(subset, 5)"
   ]
  },
  {
   "cell_type": "markdown",
   "metadata": {},
   "source": [
    "Next I will create a list of only students who said they would recommend the class to a friend, filtering out those who would not since they do not need to be in this analysis. The rec function creates a list of True or False depending on whether or not the students would recommend the class, and it will be used later to create a list of students who would recommend and either found the class interesting or easy."
   ]
  },
  {
   "cell_type": "code",
   "execution_count": 101,
   "metadata": {},
   "outputs": [],
   "source": [
    "def rec(col: list[str], threshold: int) -> list[bool]:\n",
    "    \"\"\"Create a mask list of students who said they would recommend COMP 110 to a friend.\"\"\"\n",
    "    result: list[bool] = []\n",
    "    for response in col:\n",
    "        result.append(response > \"4\")\n",
    "    return result\n",
    "\n",
    "would_recommend_mask: list[bool] = rec(subset[\"would_recommend\"], 4)"
   ]
  },
  {
   "cell_type": "markdown",
   "metadata": {},
   "source": [
    "Then I will create a list of students' perceived difficulty of COMP 110 ONLY if they said they would recommend it to another student using the mask function. I will create another list containing students' interest in the course ONLY if they said they would recommend it to another student."
   ]
  },
  {
   "cell_type": "code",
   "execution_count": 102,
   "metadata": {},
   "outputs": [],
   "source": [
    "def masked(col: list[str], mask: list[bool]) -> list[str]:\n",
    "    \"\"\"Create a list of responses that are True under the mask.\"\"\"\n",
    "    result: list[str] = []\n",
    "    for i in range(len(mask)):\n",
    "        if mask[i]:\n",
    "            result.append(col[i])\n",
    "    return result\n",
    "\n",
    "easy_recommend: list[str] = masked(subset[\"difficulty\"], would_recommend_mask)\n",
    "interested_recommend: list[str] = masked(subset[\"interesting\"], would_recommend_mask)"
   ]
  },
  {
   "cell_type": "markdown",
   "metadata": {},
   "source": [
    "I then will create two dictionaries: one containing the difficulty responses of students who would recommend the course, and the other containing the interest level of students who would recommend the course. The count function will sum the total responses of each choice, 1-7."
   ]
  },
  {
   "cell_type": "code",
   "execution_count": 103,
   "metadata": {},
   "outputs": [],
   "source": [
    "from data_utils import count\n",
    "easy_rec_values = count(easy_recommend)\n",
    "interested_rec_values = count(interested_recommend)"
   ]
  },
  {
   "cell_type": "markdown",
   "metadata": {},
   "source": [
    "Then I will combine the difficulty ratings of 1, 2, and 3 to total the students who found the class easy. I also will combine the interest ratings of 5, 6, and 7 to total the students who found the class interesting. These values will be the final results."
   ]
  },
  {
   "cell_type": "code",
   "execution_count": 104,
   "metadata": {},
   "outputs": [
    {
     "name": "stdout",
     "output_type": "stream",
     "text": [
      "Total number of students who responsed 'easy' and 'would recommend': 91\n",
      "Total number of students who responsed 'interesting' and 'would recommend': 390\n"
     ]
    }
   ],
   "source": [
    "easy_rec_total = easy_rec_values[\"1\"] + easy_rec_values[\"2\"] + easy_rec_values[\"3\"]\n",
    "interested_rec_total = interested_rec_values[\"5\"] + interested_rec_values[\"6\"] + interested_rec_values[\"7\"]\n",
    "print(f\"Total number of students who responsed 'easy' and 'would recommend': {easy_rec_total}\")\n",
    "print(f\"Total number of students who responsed 'interesting' and 'would recommend': {interested_rec_total}\")"
   ]
  },
  {
   "cell_type": "markdown",
   "metadata": {},
   "source": [
    "Finally, I will create a graph and a table to show the number of students who responded accordingly in comparison to one another. This is done using matplotlib."
   ]
  },
  {
   "cell_type": "code",
   "execution_count": 121,
   "metadata": {},
   "outputs": [
    {
     "data": {
      "image/png": "[encoded data removed]",
      "text/plain": [
       "<Figure size 432x288 with 1 Axes>"
      ]
     },
     "metadata": {
      "needs_background": "light"
     },
     "output_type": "display_data"
    },
    {
     "name": "stdout",
     "output_type": "stream",
     "text": [
      "-------------------------------  ---\n",
      "Easy and Would Recommend          91\n",
      "Interesting and Would Recommend  390\n",
      "Total                            481\n",
      "-------------------------------  ---\n"
     ]
    }
   ],
   "source": [
    "import matplotlib.pyplot as plt\n",
    "fig = plt.figure()\n",
    "ax = fig.add_axes([0, 0, 1, 1])\n",
    "x = [\"Easy/Would Recommend\", \"Interesting/Would Recommend\"]\n",
    "y = [easy_rec_total, interested_rec_total]\n",
    "ax.bar(x, y, color=['r', 'b'])\n",
    "ax.set_title(\"Number of Student Responses for Given Survey Answers\")\n",
    "plt.xlabel(\"Students' Survey Responses\")\n",
    "plt.ylabel(\"Total Student Responses\")\n",
    "plt.show()\n",
    "\n",
    "from tabulate import tabulate\n",
    "table = [[\"Easy and Would Recommend\", easy_rec_total], [\"Interesting and Would Recommend\", interested_rec_total], [\"Total\", easy_rec_total + interested_rec_total]]\n",
    "print(tabulate(table))"
   ]
  },
  {
   "cell_type": "markdown",
   "metadata": {},
   "source": [
    "This data analysis looked at survey responses and quantified the number of students who responded that COMP 110 was easy (difficulty rating of 3 or less) or interesting (interesting rating of 5 or greater) and said they would recommend the class to a fellow student (would_recommend rating of 5 or more).\n",
    "\n",
    "I hypothesized that students who found the class interesting were more likely to recommend the class than those who found the class easy. The results of this analysis showed that 390 students found COMP 110 to be interesting and said they would recommend it to a peer, which is significantly higher than the 91 students who found COMP 110 to be easy and said they would recommend it to a peer."
   ]
  }
 ],
 "metadata": {
  "interpreter": {
   "hash": "94fbc15d19dbf3e00c368e90627ec8ec79510190e95a02dd27f300c3b7464354"
  },
  "kernelspec": {
   "display_name": "Python 3.9.6 64-bit",
   "name": "python3"
  },
  "language_info": {
   "codemirror_mode": {
    "name": "ipython",
    "version": 3
   },
   "file_extension": ".py",
   "mimetype": "text/x-python",
   "name": "python",
   "nbconvert_exporter": "python",
   "pygments_lexer": "ipython3",
   "version": "3.9.6"
  },
  "orig_nbformat": 4
 },
 "nbformat": 4,
 "nbformat_minor": 2
}
