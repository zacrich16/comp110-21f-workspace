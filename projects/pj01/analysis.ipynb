{
 "cells": [
  {
   "cell_type": "markdown",
   "metadata": {},
   "source": [
    "# Hypothesis: I think students who find COMP 110 *interesting* are more likely to recommend it to other students than those who find COMP 110 to be *easy*.\n",
    "## Interesting is quantified as 5 or greater, and easy is quantified as 3 or less difficulty."
   ]
  },
  {
   "cell_type": "markdown",
   "metadata": {},
   "source": [
    "The code below will be used to automatically reload any changes made to and saved in imported modules."
   ]
  },
  {
   "cell_type": "code",
   "execution_count": 36,
   "metadata": {},
   "outputs": [],
   "source": [
    "%reload_ext autoreload\n",
    "%autoreload 2"
   ]
  },
  {
   "cell_type": "markdown",
   "metadata": {},
   "source": [
    "Next I will read in the csv data and convert it to a column oriented data table."
   ]
  },
  {
   "cell_type": "code",
   "execution_count": 37,
   "metadata": {},
   "outputs": [],
   "source": [
    "from data_utils import read_csv_rows, columnar\n",
    "\n",
    "data_rows: list[dict[str, str]] = read_csv_rows('../../data/survey.csv')\n",
    "columns: dict[str, list[str]] = columnar(data_rows)"
   ]
  },
  {
   "cell_type": "markdown",
   "metadata": {},
   "source": [
    "Then I will select the three desired columns and present the first ten rows of the newly created table. The columns I need for my data analysis are *difficulty*, *interesting*, and *would recommend*."
   ]
  },
  {
   "cell_type": "code",
   "execution_count": 38,
   "metadata": {},
   "outputs": [
    {
     "data": {
      "text/plain": [
       "{'difficulty': ['5', '3', '5', '6', '4', '5', '6', '5', '5', '7'],\n",
       " 'interesting': ['5', '7', '7', '5', '6', '5', '4', '5', '7', '5'],\n",
       " 'would_recommend': ['7', '7', '7', '7', '7', '4', '6', '4', '6', '5']}"
      ]
     },
     "execution_count": 38,
     "metadata": {},
     "output_type": "execute_result"
    }
   ],
   "source": [
    "from data_utils import select, head\n",
    "subset: dict[str, list[str]] = select(columns, [\"difficulty\", \"interesting\", \"would_recommend\"])\n",
    "head(subset, 10)"
   ]
  },
  {
   "cell_type": "markdown",
   "metadata": {},
   "source": [
    "Now I need to remove the following from my dataset:\n",
    "1) Students who did not find the class to be easy\n",
    "2) Students who did not find the class interesting\n",
    "3) Students who would not recommend the class to another student\n",
    "\n",
    "This will let me quantify only the results I wish to analyze."
   ]
  },
  {
   "cell_type": "markdown",
   "metadata": {},
   "source": [
    "The first function, *easy*, will create a new list of students that found the class to be easy and then replace the previous column in the dictionary. This means they rated the difficulty to be 3 or lower."
   ]
  },
  {
   "cell_type": "code",
   "execution_count": 39,
   "metadata": {},
   "outputs": [],
   "source": [
    "def easy(xs: list[str]) -> list[str]:\n",
    "    \"\"\"Create a new list of only students who found COMP 110 to be easy.\"\"\"\n",
    "    i = 0\n",
    "    easy_students: list[str] = []\n",
    "    while i < len(xs):\n",
    "        if xs[i] == '1' or '2' or '3':\n",
    "            easy_students.append(xs[i])\n",
    "        i += 1\n",
    "    return easy_students\n",
    "\n",
    "subset[\"difficulty\"] = easy(subset[\"difficulty\"])"
   ]
  },
  {
   "cell_type": "markdown",
   "metadata": {},
   "source": [
    "The second function, *interested*, will create a new list of students that found the class interesting and then replace the previous column in the dictionary. This means they chose 5 or higher under the *interesting* column."
   ]
  },
  {
   "cell_type": "code",
   "execution_count": 40,
   "metadata": {},
   "outputs": [],
   "source": [
    "def interested(xs: list[str]) -> list[str]:\n",
    "    \"\"\"Create a new list of only students who found COMP 110 to be interesting.\"\"\"\n",
    "    i = 0\n",
    "    interested_students: list[str] = []\n",
    "    while i < len(xs):\n",
    "        if xs[i] == '5' or '6' or '7':\n",
    "            interested_students.append(xs[i])\n",
    "        i += 1\n",
    "    return interested_students\n",
    "\n",
    "subset[\"interesting\"] = interested(subset[\"interesting\"])"
   ]
  },
  {
   "cell_type": "markdown",
   "metadata": {},
   "source": [
    "The third function, *recommend*, will create a new list of students that would recommend COMP 110 to their peers and then replace the previous column in the dictionary. This means they chose a 5 or higher under the *would_recommend* column."
   ]
  },
  {
   "cell_type": "code",
   "execution_count": 41,
   "metadata": {},
   "outputs": [],
   "source": [
    "def recommend(xs: list[str]) -> list[str]:\n",
    "    \"\"\"Create a new list of only students who would recommend COMP 110 to a peer.\"\"\"\n",
    "    i = 0\n",
    "    recommend_students: list[str] = []\n",
    "    while i < len(xs):\n",
    "        if xs[i] == '5' or '6' or '7':\n",
    "            recommend_students.append(xs[i])\n",
    "        i += 1\n",
    "    return recommend_students\n",
    "\n",
    "subset[\"would_recommend\"] = recommend(subset[\"would_recommend\"])"
   ]
  },
  {
   "cell_type": "markdown",
   "metadata": {},
   "source": [
    "Now I will print the first 10 entries of each column of the data to check that unwanted values have been removed."
   ]
  },
  {
   "cell_type": "code",
   "execution_count": 42,
   "metadata": {},
   "outputs": [
    {
     "data": {
      "text/plain": [
       "{'difficulty': ['5', '3', '5', '6', '4', '5', '6', '5', '5', '7'],\n",
       " 'interesting': ['5', '7', '7', '5', '6', '5', '4', '5', '7', '5'],\n",
       " 'would_recommend': ['7', '7', '7', '7', '7', '4', '6', '4', '6', '5']}"
      ]
     },
     "execution_count": 42,
     "metadata": {},
     "output_type": "execute_result"
    }
   ],
   "source": [
    "head(subset, 10)"
   ]
  }
 ],
 "metadata": {
  "interpreter": {
   "hash": "94fbc15d19dbf3e00c368e90627ec8ec79510190e95a02dd27f300c3b7464354"
  },
  "kernelspec": {
   "display_name": "Python 3.9.6 64-bit",
   "name": "python3"
  },
  "language_info": {
   "codemirror_mode": {
    "name": "ipython",
    "version": 3
   },
   "file_extension": ".py",
   "mimetype": "text/x-python",
   "name": "python",
   "nbconvert_exporter": "python",
   "pygments_lexer": "ipython3",
   "version": "3.9.6"
  },
  "orig_nbformat": 4
 },
 "nbformat": 4,
 "nbformat_minor": 2
}
